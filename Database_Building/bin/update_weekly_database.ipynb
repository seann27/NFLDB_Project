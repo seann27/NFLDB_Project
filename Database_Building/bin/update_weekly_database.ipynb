{
 "cells": [
  {
   "cell_type": "code",
   "execution_count": 1,
   "metadata": {},
   "outputs": [],
   "source": [
    "# imports\n",
    "import pandas as pd\n",
    "import numpy as np\n",
    "import sys\n",
    "import argparse\n",
    "from NFL_Dataloader import GameSummary,NFLAPI_Processor\n",
    "from scrapers import ApiGameLinks,LoadProjections,LoadRankings\n",
    "from NFL_RefMaps import TableColumns\n",
    "from NFL_Metrics import SkillPoints\n",
    "from sqlalchemy import create_engine\n",
    "from sqlalchemy.types import VARCHAR"
   ]
  },
  {
   "cell_type": "code",
   "execution_count": 2,
   "metadata": {},
   "outputs": [],
   "source": [
    "def update_table(conn,table,temp_table):\n",
    "    sql = \"REPLACE INTO \"+table\n",
    "    sql += \" (select * from \"+temp_table+\")\"\n",
    "    conn.execute(sql)\n",
    "\n",
    "def check_table(conn,table):\n",
    "    sql = '''SELECT COUNT(*)\n",
    "        FROM information_schema.tables\n",
    "        WHERE table_name = '{}'\n",
    "        '''.format(table)\n",
    "    result = conn.execute(sql)\n",
    "    return True if result.fetchone()[0] == 1 else False\n",
    "\n",
    "def remove_tmp_tables(conn):\n",
    "    sql = '''SELECT table_name\n",
    "            FROM information_schema.tables\n",
    "            WHERE table_name like '%%_tmp'\n",
    "            '''\n",
    "\n",
    "    result = conn.execute(sql)\n",
    "    for row in result:\n",
    "        conn.execute('DROP TABLE IF EXISTS %s'%row[0])"
   ]
  },
  {
   "cell_type": "code",
   "execution_count": 3,
   "metadata": {},
   "outputs": [],
   "source": [
    "def load_fp_metrics(data,metric,week):\n",
    "    prefix = 'fpros_'\n",
    "    for key,val in data.items():\n",
    "        table = prefix+key+'_'+metric\n",
    "        tmp = table+'_tmp'\n",
    "        if check_table(conn,table):\n",
    "            val.to_sql(tmp, con=conn, if_exists='replace',dtype={'idx': VARCHAR(val.index.get_level_values('idx').str.len().max())})\n",
    "            update_table(conn,table,tmp)\n",
    "        else:\n",
    "            val.to_sql(table, con=conn, if_exists='replace',dtype={'idx': VARCHAR(val.index.get_level_values('idx').str.len().max())})"
   ]
  },
  {
   "cell_type": "code",
   "execution_count": 4,
   "metadata": {},
   "outputs": [],
   "source": [
    "# scrape play by play from API for week\n",
    "def scrape_api(conn,season,week):\n",
    "    print(\"Getting game links for \"+str(season)+\" week \"+str(week)+\" . . .\")\n",
    "    api_games = ApiGameLinks(season,week)\n",
    "    print(\"Getting game ids . . .\")\n",
    "    gameids = api_games.get_gameids()\n",
    "    pbp_df = pd.DataFrame(columns=TableColumns().nflapi['pbp_cols'])\n",
    "    pbp_df = pbp_df.set_index('idx')\n",
    "    for game in gameids:\n",
    "        print(\"Processing \"+str(game)+\" ...\")\n",
    "        pbp = NFLAPI_Processor(game).process_nflapi()\n",
    "        pbp_df = pd.concat([pbp_df,pbp],verify_integrity=True)\n",
    "        pbp_df.to_sql('nfl_pbp_tmp', con=conn, if_exists='replace',dtype={'idx': VARCHAR(pbp_df.index.get_level_values('idx').str.len().max())})\n",
    "        update_table(conn,'nfl_pbp','nfl_pbp_tmp')\n",
    "        print(\"Table updated with \"+str(game)+\" stats.\")"
   ]
  },
  {
   "cell_type": "code",
   "execution_count": 5,
   "metadata": {},
   "outputs": [],
   "source": [
    "# generate game summaries\n",
    "def generate_game_summaries(conn,season,week):\n",
    "    gs = GameSummary(season,week)\n",
    "    game_summary = gs.get_summary()\n",
    "    skillpoints = gs.get_skillpoints()\n",
    "    game_summary.to_sql('nfl_game_summary_tmp', con=conn, if_exists='replace',index='gameid')\n",
    "    update_table('nfl_game_summary','nfl_game_summary_tmp')\n",
    "    skillpoints.to_sql('nfl_team_skillpoints_tmp', con=conn, if_exists='replace',index='idx')\n",
    "    update_table('nfl_team_skillpoints','nfl_team_skillpoints_tmp')"
   ]
  },
  {
   "cell_type": "code",
   "execution_count": 6,
   "metadata": {},
   "outputs": [],
   "source": [
    "def scrape_fpros_stats(conn,season,week):\n",
    "    proj = LoadProjections(season,week).projections\n",
    "#     rank = LoadRankings(season,week).rankings\n",
    "    load_fp_metrics(proj,'projections',week)\n",
    "#     load_fp_metrics(rank,'rankings',week)"
   ]
  },
  {
   "cell_type": "code",
   "execution_count": 7,
   "metadata": {},
   "outputs": [],
   "source": [
    "nfldb_engine = create_engine('mysql+pymysql://root:@localhost:3306/nfl_db')\n",
    "conn = nfldb_engine.connect()"
   ]
  },
  {
   "cell_type": "code",
   "execution_count": 8,
   "metadata": {},
   "outputs": [],
   "source": [
    "# scrape 2019 stats\n",
    "# season = 2019\n",
    "# weeks = np.arange(1,17).tolist()\n",
    "\n",
    "# for week in weeks:\n",
    "#     scrape_api(conn,season,week)"
   ]
  },
  {
   "cell_type": "code",
   "execution_count": 9,
   "metadata": {},
   "outputs": [],
   "source": [
    "# scrape missing games from 2018\n",
    "# season = 2018\n",
    "# weeks = [16,17]\n",
    "# for week in weeks:\n",
    "#     scrape_api(conn,season,week)"
   ]
  },
  {
   "cell_type": "code",
   "execution_count": 10,
   "metadata": {},
   "outputs": [],
   "source": [
    "# playoff weeks, omit pro bowl (week 21)\n",
    "# seasons = np.arange(2010,2020).tolist()\n",
    "# weeks = [17,18,19,20,22]\n",
    "# for season in seasons:\n",
    "#     for week in weeks:\n",
    "#         scrape_api(conn,season,week)"
   ]
  },
  {
   "cell_type": "code",
   "execution_count": 11,
   "metadata": {},
   "outputs": [
    {
     "name": "stdout",
     "output_type": "stream",
     "text": [
      "https://www.fantasypros.com/nfl/rankings/qb.php?week=18\n",
      "https://www.fantasypros.com/nfl/rankings/half-point-ppr-rb.php?week=18\n",
      "https://www.fantasypros.com/nfl/rankings/half-point-ppr-wr.php?week=18\n",
      "https://www.fantasypros.com/nfl/rankings/half-point-ppr-te.php?week=18\n",
      "https://www.fantasypros.com/nfl/rankings/half-point-ppr-flex.php?week=18\n",
      "https://www.fantasypros.com/nfl/rankings/k.php?week=18\n",
      "https://www.fantasypros.com/nfl/rankings/dst.php?week=18\n",
      "https://www.fantasypros.com/nfl/rankings/qb.php?week=19\n",
      "https://www.fantasypros.com/nfl/rankings/half-point-ppr-rb.php?week=19\n",
      "https://www.fantasypros.com/nfl/rankings/half-point-ppr-wr.php?week=19\n",
      "https://www.fantasypros.com/nfl/rankings/half-point-ppr-te.php?week=19\n",
      "https://www.fantasypros.com/nfl/rankings/half-point-ppr-flex.php?week=19\n",
      "https://www.fantasypros.com/nfl/rankings/k.php?week=19\n",
      "https://www.fantasypros.com/nfl/rankings/dst.php?week=19\n",
      "https://www.fantasypros.com/nfl/rankings/qb.php?week=20\n",
      "https://www.fantasypros.com/nfl/rankings/half-point-ppr-rb.php?week=20\n",
      "https://www.fantasypros.com/nfl/rankings/half-point-ppr-wr.php?week=20\n",
      "https://www.fantasypros.com/nfl/rankings/half-point-ppr-te.php?week=20\n",
      "https://www.fantasypros.com/nfl/rankings/half-point-ppr-flex.php?week=20\n",
      "https://www.fantasypros.com/nfl/rankings/k.php?week=20\n",
      "https://www.fantasypros.com/nfl/rankings/dst.php?week=20\n",
      "https://www.fantasypros.com/nfl/rankings/qb.php?week=22\n",
      "https://www.fantasypros.com/nfl/rankings/half-point-ppr-rb.php?week=22\n",
      "https://www.fantasypros.com/nfl/rankings/half-point-ppr-wr.php?week=22\n",
      "https://www.fantasypros.com/nfl/rankings/half-point-ppr-te.php?week=22\n",
      "https://www.fantasypros.com/nfl/rankings/half-point-ppr-flex.php?week=22\n",
      "https://www.fantasypros.com/nfl/rankings/k.php?week=22\n",
      "https://www.fantasypros.com/nfl/rankings/dst.php?week=22\n"
     ]
    }
   ],
   "source": [
    "# generate_game_summaries(conn,season,week)\n",
    "# scrape_fpros_stats(conn,season,week)\n",
    "season = 2019\n",
    "weeks = [18,19,20,22]\n",
    "for week in weeks:\n",
    "#     scrape_api(conn,season,week)\n",
    "#       scrape_fpros_stats(conn,season,week)\n",
    "    rank = LoadRankings(season,week).rankings\n",
    "    load_fp_metrics(rank,'rankings',week)"
   ]
  },
  {
   "cell_type": "code",
   "execution_count": null,
   "metadata": {},
   "outputs": [],
   "source": []
  }
 ],
 "metadata": {
  "kernelspec": {
   "display_name": "Python 3",
   "language": "python",
   "name": "python3"
  },
  "language_info": {
   "codemirror_mode": {
    "name": "ipython",
    "version": 3
   },
   "file_extension": ".py",
   "mimetype": "text/x-python",
   "name": "python",
   "nbconvert_exporter": "python",
   "pygments_lexer": "ipython3",
   "version": "3.7.6"
  }
 },
 "nbformat": 4,
 "nbformat_minor": 2
}
