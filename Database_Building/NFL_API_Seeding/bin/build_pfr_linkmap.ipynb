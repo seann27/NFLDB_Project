{
 "cells": [
  {
   "cell_type": "code",
   "execution_count": 1,
   "metadata": {},
   "outputs": [],
   "source": [
    "import pandas as pd\n",
    "import numpy as np\n",
    "from scrapers import PFR_Gamelinks,PFR_Gamepage\n",
    "from NFL_RefMaps import TeamDictionary"
   ]
  },
  {
   "cell_type": "code",
   "execution_count": 2,
   "metadata": {},
   "outputs": [],
   "source": [
    "cols = ['idx','pfr_link']\n",
    "df = pd.DataFrame(columns=cols)\n",
    "\n",
    "seasons = np.arange(2009,2019).tolist()\n",
    "weeks = np.arange(1,17).tolist()"
   ]
  },
  {
   "cell_type": "code",
   "execution_count": 3,
   "metadata": {},
   "outputs": [
    {
     "data": {
      "text/plain": [
       "[2009, 2010, 2011, 2012, 2013, 2014, 2015, 2016, 2017, 2018]"
      ]
     },
     "execution_count": 3,
     "metadata": {},
     "output_type": "execute_result"
    }
   ],
   "source": [
    "seasons"
   ]
  },
  {
   "cell_type": "code",
   "execution_count": 4,
   "metadata": {},
   "outputs": [
    {
     "data": {
      "text/plain": [
       "[1, 2, 3, 4, 5, 6, 7, 8, 9, 10, 11, 12, 13, 14, 15, 16]"
      ]
     },
     "execution_count": 4,
     "metadata": {},
     "output_type": "execute_result"
    }
   ],
   "source": [
    "weeks"
   ]
  },
  {
   "cell_type": "code",
   "execution_count": 12,
   "metadata": {},
   "outputs": [
    {
     "name": "stdout",
     "output_type": "stream",
     "text": [
      "['Carolina Panthers', '6.5']\n",
      "home_fav =  0 , ats =  6.5 , ou =  39.0\n",
      "score_diff =  -18.0\n",
      "['Philadelphia Eagles', '5.5']\n",
      "home_fav =  1 , ats =  5.5 , ou =  49.0\n",
      "score_diff =  -8.0\n",
      "['New England Patriots', '5.5']\n",
      "home_fav =  1 , ats =  5.5 , ou =  46.5\n",
      "score_diff =  10.0\n",
      "['New Orleans Saints', '10.5']\n",
      "home_fav =  1 , ats =  10.5 , ou =  48.5\n",
      "score_diff =  18.0\n",
      "['Kansas City Chiefs', '7.0']\n",
      "home_fav =  1 , ats =  7.0 , ou =  39.0\n",
      "score_diff =  6.0\n",
      "['Detroit Lions', '3.0']\n",
      "home_fav =  1 , ats =  3.0 , ou =  51.0\n",
      "score_diff =  1.0\n",
      "['San Francisco 49ers', '14.5']\n",
      "home_fav =  0 , ats =  14.5 , ou =  40.0\n",
      "score_diff =  -32.0\n",
      "['Pittsburgh Steelers', '2.5']\n",
      "home_fav =  0 , ats =  2.5 , ou =  40.0\n",
      "score_diff =  3.0\n",
      "['Cincinnati Bengals', '4.5']\n",
      "home_fav =  1 , ats =  4.5 , ou =  40.5\n",
      "score_diff =  40.0\n",
      "['Arizona Cardinals', '3.0']\n",
      "home_fav =  1 , ats =  3.0 , ou =  44.5\n",
      "score_diff =  14.0\n",
      "['Denver Broncos', '11.0']\n",
      "home_fav =  1 , ats =  11.0 , ou =  58.5\n",
      "score_diff =  24.0\n",
      "['Green Bay Packers', '7.5']\n",
      "home_fav =  0 , ats =  7.5 , ou =  47.5\n",
      "score_diff =  -13.0\n",
      "['Seattle Seahawks', '13.0']\n",
      "home_fav =  0 , ats =  13.0 , ou =  43.5\n",
      "score_diff =  -5.0\n"
     ]
    },
    {
     "data": {
      "text/html": [
       "<div>\n",
       "<style scoped>\n",
       "    .dataframe tbody tr th:only-of-type {\n",
       "        vertical-align: middle;\n",
       "    }\n",
       "\n",
       "    .dataframe tbody tr th {\n",
       "        vertical-align: top;\n",
       "    }\n",
       "\n",
       "    .dataframe thead th {\n",
       "        text-align: right;\n",
       "    }\n",
       "</style>\n",
       "<table border=\"1\" class=\"dataframe\">\n",
       "  <thead>\n",
       "    <tr style=\"text-align: right;\">\n",
       "      <th></th>\n",
       "      <th>idx</th>\n",
       "      <th>gamelinks</th>\n",
       "    </tr>\n",
       "  </thead>\n",
       "  <tbody>\n",
       "    <tr>\n",
       "      <th>0</th>\n",
       "      <td>10-24-2013TB</td>\n",
       "      <td>https://www.pro-football-reference.com/boxscor...</td>\n",
       "    </tr>\n",
       "    <tr>\n",
       "      <th>1</th>\n",
       "      <td>10-27-2013PHI</td>\n",
       "      <td>https://www.pro-football-reference.com/boxscor...</td>\n",
       "    </tr>\n",
       "    <tr>\n",
       "      <th>2</th>\n",
       "      <td>10-27-2013NE</td>\n",
       "      <td>https://www.pro-football-reference.com/boxscor...</td>\n",
       "    </tr>\n",
       "    <tr>\n",
       "      <th>3</th>\n",
       "      <td>10-27-2013NO</td>\n",
       "      <td>https://www.pro-football-reference.com/boxscor...</td>\n",
       "    </tr>\n",
       "    <tr>\n",
       "      <th>4</th>\n",
       "      <td>10-27-2013KC</td>\n",
       "      <td>https://www.pro-football-reference.com/boxscor...</td>\n",
       "    </tr>\n",
       "  </tbody>\n",
       "</table>\n",
       "</div>"
      ],
      "text/plain": [
       "             idx                                          gamelinks\n",
       "0   10-24-2013TB  https://www.pro-football-reference.com/boxscor...\n",
       "1  10-27-2013PHI  https://www.pro-football-reference.com/boxscor...\n",
       "2   10-27-2013NE  https://www.pro-football-reference.com/boxscor...\n",
       "3   10-27-2013NO  https://www.pro-football-reference.com/boxscor...\n",
       "4   10-27-2013KC  https://www.pro-football-reference.com/boxscor..."
      ]
     },
     "execution_count": 12,
     "metadata": {},
     "output_type": "execute_result"
    }
   ],
   "source": [
    "# for season in seasons:\n",
    "#     for week in weeks:\n",
    "data = {'idx':[],'gamelinks':[]}\n",
    "season = 2013\n",
    "week = 8\n",
    "pfrg = PFR_Gamelinks(season,week)\n",
    "gamelinks = pfrg.get_game_links()\n",
    "for game in gamelinks:\n",
    "    data['gamelinks'].append(game)\n",
    "    pfr = PFR_Gamepage(game)\n",
    "    gameinfo = pfr.get_gameinfo()\n",
    "    date = gameinfo[1]\n",
    "    mm = date[4:6]\n",
    "    yyyy = date[0:4]\n",
    "    dd = date[6:8]\n",
    "    date = mm+\"-\"+dd+\"-\"+yyyy\n",
    "    home_team = gameinfo[2]\n",
    "    teams = TeamDictionary().nfl_api\n",
    "    data['idx'].append(date+teams[home_team])\n",
    "df = pd.DataFrame.from_dict(data)\n",
    "df.head()"
   ]
  },
  {
   "cell_type": "code",
   "execution_count": null,
   "metadata": {},
   "outputs": [],
   "source": []
  }
 ],
 "metadata": {
  "kernelspec": {
   "display_name": "Python 3",
   "language": "python",
   "name": "python3"
  },
  "language_info": {
   "codemirror_mode": {
    "name": "ipython",
    "version": 3
   },
   "file_extension": ".py",
   "mimetype": "text/x-python",
   "name": "python",
   "nbconvert_exporter": "python",
   "pygments_lexer": "ipython3",
   "version": "3.7.3"
  }
 },
 "nbformat": 4,
 "nbformat_minor": 2
}
