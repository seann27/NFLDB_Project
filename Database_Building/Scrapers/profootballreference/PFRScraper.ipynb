{
 "cells": [
  {
   "cell_type": "code",
   "execution_count": 121,
   "metadata": {},
   "outputs": [],
   "source": [
    "import re\n",
    "import sys\n",
    "import gc\n",
    "import logging\n",
    "import traceback\n",
    "import datetime\n",
    "import numpy as np\n",
    "import pandas as pd\n",
    "import bs4\n",
    "from bs4 import BeautifulSoup as soup\n",
    "from bs4 import Comment\n",
    "from urllib.request import urlopen as uReq\n",
    "from references_dict import Team_Dictionary"
   ]
  },
  {
   "cell_type": "code",
   "execution_count": 122,
   "metadata": {},
   "outputs": [],
   "source": [
    "# get soup object from link\n",
    "def get_soup(link):\n",
    "    uClient = uReq(link)\n",
    "    page_html = uClient.read()\n",
    "    uClient.close()\n",
    "    page_soup = soup(page_html, \"lxml\")\n",
    "    return page_soup\n",
    "\n",
    "# get table from page\n",
    "# utility method for parsing game page tables\n",
    "def get_data(page_soup,id,commented=0):\n",
    "    data = page_soup.find(\"div\",{\"id\":id})\n",
    "    if commented > 0:\n",
    "        comment = data.find(string=lambda text:isinstance(text,Comment))\n",
    "        data = soup(comment,\"lxml\")\n",
    "    players = [tr.find(\"th\",{\"scope\":\"row\"}) for tr in data.findAll(\"tr\",{\"class\":None})]\n",
    "    stats = [tr.findAll(\"td\") for tr in data.findAll(\"tr\",{\"class\":None})]\n",
    "    players.pop(0)\n",
    "    stats.pop(0)\n",
    "    return players,stats"
   ]
  },
  {
   "cell_type": "code",
   "execution_count": 123,
   "metadata": {},
   "outputs": [],
   "source": [
    "season = 2018\n",
    "week = 4\n",
    "link = \"https://www.pro-football-reference.com/years/\"+str(season)+\"/week_\"+str(week)+\".htm\"\n",
    "\n",
    "page_soup = get_soup(link)\n",
    "games = page_soup.findAll(\"td\",{\"class\":\"gamelink\"})"
   ]
  },
  {
   "cell_type": "code",
   "execution_count": 128,
   "metadata": {},
   "outputs": [],
   "source": [
    "def get_gameinfo(game):\n",
    "    # get date, page soup for game link\n",
    "    gameid = (str(game.a['href']))\n",
    "    date = gameid[11:20]\n",
    "    link = \"https://www.pro-football-reference.com\"+gameid\n",
    "    print(link)\n",
    "    gameinfo = np.array([gameid,date])\n",
    "    page_soup = get_soup(link)\n",
    "    \n",
    "    # get team names\n",
    "    gameteams = page_soup.findAll(\"a\",{\"itemprop\":\"name\"})\n",
    "    team_home = gameteams[0].text\n",
    "    team_away = gameteams[1].text\n",
    "    \n",
    "    # get vegas odds\n",
    "    gameinfo = page_soup.find(\"div\",{\"id\":\"all_game_info\"})\n",
    "    comment = gameinfo.find(string=lambda text:isinstance(text,Comment))\n",
    "    gameinfo = soup(comment,\"lxml\")\n",
    "    gameinfo = [tr.findAll(\"td\") for tr in gameinfo.findAll(\"tr\",{\"class\":None})]\n",
    "    vegasline = gameinfo[-2][0].text.strip()\n",
    "    vegasline = re.split(\"\\s-\",vegasline)\n",
    "    home_fav = 1\n",
    "    if vegasline[0] == team_away:\n",
    "        home_fav = 0\n",
    "    vegasline = float(vegasline[1])\n",
    "    overunder = float(gameinfo[-1][0].text.split(\" \")[0].strip())\n",
    "    \n",
    "    # get score\n",
    "    score = page_soup.findAll(\"div\",{\"class\":\"score\"})\n",
    "    points_home = float(score[0].text.strip())\n",
    "    points_away = float(score[1].text.strip())\n",
    "    home_score_diff = points_home - points_away\n",
    "    \n",
    "    # calculate vegas results\n",
    "    ats_result = 0\n",
    "    if((home_score_diff > vegasline and home_fav == 1) or (home_score_diff < vegasline and home_fav == 0)):\n",
    "        ats_result = 1\n",
    "    elif((home_score_diff < vegasline and home_fav == 1) or (home_score_diff > vegasline and home_fav == 0)):\n",
    "        ats_result = -1   \n",
    "        \n",
    "    ou_result = 0\n",
    "    if(points_home+points_away > overunder):\n",
    "        ou_result = 1\n",
    "    elif(points_home+points_away < overunder):\n",
    "        ou_result = -1\n",
    "    \n",
    "    # return metrics in numpy array\n",
    "    stats = np.array([gameid,date,team_home,points_home,team_away,points_away,home_fav,vegasline,overunder,ats_result,ou_result])\n",
    "    print(stats)\n",
    "    return stats"
   ]
  },
  {
   "cell_type": "code",
   "execution_count": 129,
   "metadata": {},
   "outputs": [
    {
     "name": "stdout",
     "output_type": "stream",
     "text": [
      "https://www.pro-football-reference.com/boxscores/201809270ram.htm\n",
      "['/boxscores/201809270ram.htm' '201809270' 'Los Angeles Rams' '38.0'\n",
      " 'Minnesota Vikings' '31.0' '1' '7.5' '48.5' '-1' '1']\n",
      "https://www.pro-football-reference.com/boxscores/201809300clt.htm\n",
      "['/boxscores/201809300clt.htm' '201809300' 'Indianapolis Colts' '34.0'\n",
      " 'Houston Texans' '37.0' '0' '1.0' '48.0' '1' '1']\n"
     ]
    }
   ],
   "source": [
    "game1 = get_gameinfo(games[0])\n",
    "game2 = get_gameinfo(games[1])\n",
    "mygames = [np.array(['gameid','date','team_home','points_home','team_away','points_away','home_fav','vegasline','overunder','ats_result','ou_result'])]\n",
    "mygames.append(game1)\n",
    "mygames.append(game2)"
   ]
  },
  {
   "cell_type": "code",
   "execution_count": 130,
   "metadata": {},
   "outputs": [],
   "source": [
    "df = np.vstack(mygames)"
   ]
  },
  {
   "cell_type": "code",
   "execution_count": 131,
   "metadata": {},
   "outputs": [],
   "source": [
    "df = pd.DataFrame(data=df[1:,1:],index=df[1:,0],columns=df[0,1:])"
   ]
  },
  {
   "cell_type": "code",
   "execution_count": 132,
   "metadata": {},
   "outputs": [
    {
     "data": {
      "text/html": [
       "<div>\n",
       "<style scoped>\n",
       "    .dataframe tbody tr th:only-of-type {\n",
       "        vertical-align: middle;\n",
       "    }\n",
       "\n",
       "    .dataframe tbody tr th {\n",
       "        vertical-align: top;\n",
       "    }\n",
       "\n",
       "    .dataframe thead th {\n",
       "        text-align: right;\n",
       "    }\n",
       "</style>\n",
       "<table border=\"1\" class=\"dataframe\">\n",
       "  <thead>\n",
       "    <tr style=\"text-align: right;\">\n",
       "      <th></th>\n",
       "      <th>date</th>\n",
       "      <th>team_home</th>\n",
       "      <th>points_home</th>\n",
       "      <th>team_away</th>\n",
       "      <th>points_away</th>\n",
       "      <th>home_fav</th>\n",
       "      <th>vegasline</th>\n",
       "      <th>overunder</th>\n",
       "      <th>ats_result</th>\n",
       "      <th>ou_result</th>\n",
       "    </tr>\n",
       "  </thead>\n",
       "  <tbody>\n",
       "    <tr>\n",
       "      <th>/boxscores/201809270ram.htm</th>\n",
       "      <td>201809270</td>\n",
       "      <td>Los Angeles Rams</td>\n",
       "      <td>38.0</td>\n",
       "      <td>Minnesota Vikings</td>\n",
       "      <td>31.0</td>\n",
       "      <td>1</td>\n",
       "      <td>7.5</td>\n",
       "      <td>48.5</td>\n",
       "      <td>-1</td>\n",
       "      <td>1</td>\n",
       "    </tr>\n",
       "    <tr>\n",
       "      <th>/boxscores/201809300clt.htm</th>\n",
       "      <td>201809300</td>\n",
       "      <td>Indianapolis Colts</td>\n",
       "      <td>34.0</td>\n",
       "      <td>Houston Texans</td>\n",
       "      <td>37.0</td>\n",
       "      <td>0</td>\n",
       "      <td>1.0</td>\n",
       "      <td>48.0</td>\n",
       "      <td>1</td>\n",
       "      <td>1</td>\n",
       "    </tr>\n",
       "  </tbody>\n",
       "</table>\n",
       "</div>"
      ],
      "text/plain": [
       "                                  date           team_home points_home  \\\n",
       "/boxscores/201809270ram.htm  201809270    Los Angeles Rams        38.0   \n",
       "/boxscores/201809300clt.htm  201809300  Indianapolis Colts        34.0   \n",
       "\n",
       "                                     team_away points_away home_fav vegasline  \\\n",
       "/boxscores/201809270ram.htm  Minnesota Vikings        31.0        1       7.5   \n",
       "/boxscores/201809300clt.htm     Houston Texans        37.0        0       1.0   \n",
       "\n",
       "                            overunder ats_result ou_result  \n",
       "/boxscores/201809270ram.htm      48.5         -1         1  \n",
       "/boxscores/201809300clt.htm      48.0          1         1  "
      ]
     },
     "execution_count": 132,
     "metadata": {},
     "output_type": "execute_result"
    }
   ],
   "source": [
    "df"
   ]
  },
  {
   "cell_type": "code",
   "execution_count": null,
   "metadata": {},
   "outputs": [],
   "source": []
  }
 ],
 "metadata": {
  "kernelspec": {
   "display_name": "Python 3",
   "language": "python",
   "name": "python3"
  },
  "language_info": {
   "codemirror_mode": {
    "name": "ipython",
    "version": 3
   },
   "file_extension": ".py",
   "mimetype": "text/x-python",
   "name": "python",
   "nbconvert_exporter": "python",
   "pygments_lexer": "ipython3",
   "version": "3.7.3"
  }
 },
 "nbformat": 4,
 "nbformat_minor": 2
}
