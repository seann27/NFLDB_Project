{
 "cells": [
  {
   "cell_type": "code",
   "execution_count": 1,
   "metadata": {},
   "outputs": [],
   "source": [
    "from scrapers import LoadProjections"
   ]
  },
  {
   "cell_type": "code",
   "execution_count": 2,
   "metadata": {},
   "outputs": [],
   "source": [
    "path = (\"D:\\\\NFLDB\\\\scraped_stats\")"
   ]
  },
  {
   "cell_type": "code",
   "execution_count": 3,
   "metadata": {},
   "outputs": [
    {
     "name": "stdout",
     "output_type": "stream",
     "text": [
      "Error detected in  https://www.fantasypros.com/nfl/projections/rb.php?week=1&scoring=HALF  ... skipping row\n",
      "Uploading D:\\NFLDB\\scraped_stats\\week_1_qb_projections.csv\n",
      "Uploading D:\\NFLDB\\scraped_stats\\week_1_rb_projections.csv\n",
      "Uploading D:\\NFLDB\\scraped_stats\\week_1_wr_projections.csv\n",
      "Uploading D:\\NFLDB\\scraped_stats\\week_1_te_projections.csv\n",
      "Uploading D:\\NFLDB\\scraped_stats\\week_1_dst_projections.csv\n",
      "Uploading D:\\NFLDB\\scraped_stats\\week_1_k_projections.csv\n",
      "Uploading D:\\NFLDB\\scraped_stats\\week_2_qb_projections.csv\n",
      "Uploading D:\\NFLDB\\scraped_stats\\week_2_rb_projections.csv\n",
      "Uploading D:\\NFLDB\\scraped_stats\\week_2_wr_projections.csv\n",
      "Uploading D:\\NFLDB\\scraped_stats\\week_2_te_projections.csv\n",
      "Uploading D:\\NFLDB\\scraped_stats\\week_2_dst_projections.csv\n",
      "Uploading D:\\NFLDB\\scraped_stats\\week_2_k_projections.csv\n",
      "Uploading D:\\NFLDB\\scraped_stats\\week_3_qb_projections.csv\n",
      "Uploading D:\\NFLDB\\scraped_stats\\week_3_rb_projections.csv\n",
      "Uploading D:\\NFLDB\\scraped_stats\\week_3_wr_projections.csv\n",
      "Uploading D:\\NFLDB\\scraped_stats\\week_3_te_projections.csv\n",
      "Uploading D:\\NFLDB\\scraped_stats\\week_3_dst_projections.csv\n",
      "Uploading D:\\NFLDB\\scraped_stats\\week_3_k_projections.csv\n",
      "Uploading D:\\NFLDB\\scraped_stats\\week_4_qb_projections.csv\n",
      "Uploading D:\\NFLDB\\scraped_stats\\week_4_rb_projections.csv\n",
      "Uploading D:\\NFLDB\\scraped_stats\\week_4_wr_projections.csv\n",
      "Uploading D:\\NFLDB\\scraped_stats\\week_4_te_projections.csv\n",
      "Uploading D:\\NFLDB\\scraped_stats\\week_4_dst_projections.csv\n",
      "Uploading D:\\NFLDB\\scraped_stats\\week_4_k_projections.csv\n",
      "Uploading D:\\NFLDB\\scraped_stats\\week_5_qb_projections.csv\n",
      "Uploading D:\\NFLDB\\scraped_stats\\week_5_rb_projections.csv\n",
      "Uploading D:\\NFLDB\\scraped_stats\\week_5_wr_projections.csv\n",
      "Uploading D:\\NFLDB\\scraped_stats\\week_5_te_projections.csv\n",
      "Uploading D:\\NFLDB\\scraped_stats\\week_5_dst_projections.csv\n",
      "Uploading D:\\NFLDB\\scraped_stats\\week_5_k_projections.csv\n",
      "Uploading D:\\NFLDB\\scraped_stats\\week_6_qb_projections.csv\n",
      "Uploading D:\\NFLDB\\scraped_stats\\week_6_rb_projections.csv\n",
      "Uploading D:\\NFLDB\\scraped_stats\\week_6_wr_projections.csv\n",
      "Uploading D:\\NFLDB\\scraped_stats\\week_6_te_projections.csv\n",
      "Uploading D:\\NFLDB\\scraped_stats\\week_6_dst_projections.csv\n",
      "Uploading D:\\NFLDB\\scraped_stats\\week_6_k_projections.csv\n",
      "Uploading D:\\NFLDB\\scraped_stats\\week_7_qb_projections.csv\n",
      "Uploading D:\\NFLDB\\scraped_stats\\week_7_rb_projections.csv\n",
      "Uploading D:\\NFLDB\\scraped_stats\\week_7_wr_projections.csv\n",
      "Uploading D:\\NFLDB\\scraped_stats\\week_7_te_projections.csv\n",
      "Uploading D:\\NFLDB\\scraped_stats\\week_7_dst_projections.csv\n",
      "Uploading D:\\NFLDB\\scraped_stats\\week_7_k_projections.csv\n",
      "Uploading D:\\NFLDB\\scraped_stats\\week_8_qb_projections.csv\n",
      "Uploading D:\\NFLDB\\scraped_stats\\week_8_rb_projections.csv\n",
      "Uploading D:\\NFLDB\\scraped_stats\\week_8_wr_projections.csv\n",
      "Uploading D:\\NFLDB\\scraped_stats\\week_8_te_projections.csv\n",
      "Uploading D:\\NFLDB\\scraped_stats\\week_8_dst_projections.csv\n",
      "Uploading D:\\NFLDB\\scraped_stats\\week_8_k_projections.csv\n",
      "Uploading D:\\NFLDB\\scraped_stats\\week_9_qb_projections.csv\n",
      "Uploading D:\\NFLDB\\scraped_stats\\week_9_rb_projections.csv\n",
      "Uploading D:\\NFLDB\\scraped_stats\\week_9_wr_projections.csv\n",
      "Uploading D:\\NFLDB\\scraped_stats\\week_9_te_projections.csv\n",
      "Uploading D:\\NFLDB\\scraped_stats\\week_9_dst_projections.csv\n",
      "Uploading D:\\NFLDB\\scraped_stats\\week_9_k_projections.csv\n"
     ]
    }
   ],
   "source": [
    "for i in range(1,10):\n",
    "    proj = LoadProjections(week=i)\n",
    "    for key,val in proj.projections.items():\n",
    "        df = val\n",
    "        file = path+\"\\\\week_\"+str(i)+\"_\"+key+\"_projections.csv\"\n",
    "        print(\"Uploading \"+file)\n",
    "        df.to_csv(file)"
   ]
  },
  {
   "cell_type": "code",
   "execution_count": null,
   "metadata": {},
   "outputs": [],
   "source": []
  }
 ],
 "metadata": {
  "kernelspec": {
   "display_name": "Python 3",
   "language": "python",
   "name": "python3"
  },
  "language_info": {
   "codemirror_mode": {
    "name": "ipython",
    "version": 3
   },
   "file_extension": ".py",
   "mimetype": "text/x-python",
   "name": "python",
   "nbconvert_exporter": "python",
   "pygments_lexer": "ipython3",
   "version": "3.6.4"
  }
 },
 "nbformat": 4,
 "nbformat_minor": 2
}
