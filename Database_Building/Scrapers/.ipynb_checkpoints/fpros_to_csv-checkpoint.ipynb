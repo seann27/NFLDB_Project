{
 "cells": [
  {
   "cell_type": "code",
   "execution_count": 7,
   "metadata": {},
   "outputs": [],
   "source": [
    "from scrapers import LoadProjections"
   ]
  },
  {
   "cell_type": "code",
   "execution_count": 8,
   "metadata": {},
   "outputs": [],
   "source": [
    "path = (\"D:\\\\NFLDB\\\\scraped_stats\")"
   ]
  },
  {
   "cell_type": "code",
   "execution_count": null,
   "metadata": {},
   "outputs": [
    {
     "name": "stdout",
     "output_type": "stream",
     "text": [
      "Error detected in  https://www.fantasypros.com/nfl/projections/rb.php?week=1&scoring=HALF  ... skipping row\n",
      "Uploading D:\\NFLDB\\scraped_stats\\week_1_qb_projections.csv\n",
      "Uploading D:\\NFLDB\\scraped_stats\\week_1_rb_projections.csv\n",
      "Uploading D:\\NFLDB\\scraped_stats\\week_1_wr_projections.csv\n",
      "Uploading D:\\NFLDB\\scraped_stats\\week_1_te_projections.csv\n",
      "Uploading D:\\NFLDB\\scraped_stats\\week_1_dst_projections.csv\n",
      "Uploading D:\\NFLDB\\scraped_stats\\week_1_k_projections.csv\n",
      "Uploading D:\\NFLDB\\scraped_stats\\week_1_qb_projections.csv\n",
      "Uploading D:\\NFLDB\\scraped_stats\\week_1_rb_projections.csv\n",
      "Uploading D:\\NFLDB\\scraped_stats\\week_1_wr_projections.csv\n",
      "Uploading D:\\NFLDB\\scraped_stats\\week_1_te_projections.csv\n",
      "Uploading D:\\NFLDB\\scraped_stats\\week_1_dst_projections.csv\n",
      "Uploading D:\\NFLDB\\scraped_stats\\week_1_k_projections.csv\n",
      "Uploading D:\\NFLDB\\scraped_stats\\week_1_qb_projections.csv\n",
      "Uploading D:\\NFLDB\\scraped_stats\\week_1_rb_projections.csv\n",
      "Uploading D:\\NFLDB\\scraped_stats\\week_1_wr_projections.csv\n",
      "Uploading D:\\NFLDB\\scraped_stats\\week_1_te_projections.csv\n",
      "Uploading D:\\NFLDB\\scraped_stats\\week_1_dst_projections.csv\n",
      "Uploading D:\\NFLDB\\scraped_stats\\week_1_k_projections.csv\n",
      "Uploading D:\\NFLDB\\scraped_stats\\week_1_qb_projections.csv\n",
      "Uploading D:\\NFLDB\\scraped_stats\\week_1_rb_projections.csv\n",
      "Uploading D:\\NFLDB\\scraped_stats\\week_1_wr_projections.csv\n",
      "Uploading D:\\NFLDB\\scraped_stats\\week_1_te_projections.csv\n",
      "Uploading D:\\NFLDB\\scraped_stats\\week_1_dst_projections.csv\n",
      "Uploading D:\\NFLDB\\scraped_stats\\week_1_k_projections.csv\n",
      "Uploading D:\\NFLDB\\scraped_stats\\week_1_qb_projections.csv\n",
      "Uploading D:\\NFLDB\\scraped_stats\\week_1_rb_projections.csv\n",
      "Uploading D:\\NFLDB\\scraped_stats\\week_1_wr_projections.csv\n",
      "Uploading D:\\NFLDB\\scraped_stats\\week_1_te_projections.csv\n",
      "Uploading D:\\NFLDB\\scraped_stats\\week_1_dst_projections.csv\n",
      "Uploading D:\\NFLDB\\scraped_stats\\week_1_k_projections.csv\n",
      "Uploading D:\\NFLDB\\scraped_stats\\week_1_qb_projections.csv\n",
      "Uploading D:\\NFLDB\\scraped_stats\\week_1_rb_projections.csv\n",
      "Uploading D:\\NFLDB\\scraped_stats\\week_1_wr_projections.csv\n",
      "Uploading D:\\NFLDB\\scraped_stats\\week_1_te_projections.csv\n",
      "Uploading D:\\NFLDB\\scraped_stats\\week_1_dst_projections.csv\n",
      "Uploading D:\\NFLDB\\scraped_stats\\week_1_k_projections.csv\n"
     ]
    }
   ],
   "source": [
    "for i in range(1,10):\n",
    "    proj = LoadProjections(week=i)\n",
    "    for key,val in proj.projections.items():\n",
    "        df = val\n",
    "        file = path+\"\\\\week_\"+str(i)+\"_\"+key+\"_projections.csv\"\n",
    "        print(\"Uploading \"+file)\n",
    "        df.to_csv(file)"
   ]
  },
  {
   "cell_type": "code",
   "execution_count": null,
   "metadata": {},
   "outputs": [],
   "source": []
  }
 ],
 "metadata": {
  "kernelspec": {
   "display_name": "Python 3",
   "language": "python",
   "name": "python3"
  },
  "language_info": {
   "codemirror_mode": {
    "name": "ipython",
    "version": 3
   },
   "file_extension": ".py",
   "mimetype": "text/x-python",
   "name": "python",
   "nbconvert_exporter": "python",
   "pygments_lexer": "ipython3",
   "version": "3.6.4"
  }
 },
 "nbformat": 4,
 "nbformat_minor": 2
}
