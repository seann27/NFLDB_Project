{
 "cells": [
  {
   "cell_type": "code",
   "execution_count": 9,
   "metadata": {},
   "outputs": [],
   "source": [
    "import pandas as pd\n",
    "import numpy as np\n",
    "import re\n",
    "from scrapers.GeneralScraper import Scraper\n",
    "from NFL_RefMaps import TableColumns,TeamDictionary"
   ]
  },
  {
   "cell_type": "code",
   "execution_count": 10,
   "metadata": {},
   "outputs": [],
   "source": [
    "week = 11\n",
    "pos = 'rb'"
   ]
  },
  {
   "cell_type": "code",
   "execution_count": 11,
   "metadata": {},
   "outputs": [],
   "source": [
    "half = [ 'rb','wr','te','flex' ]\n",
    "standard = [ 'qb','k','dst' ,'idp','dl','lb','db']\n",
    "link = \"https://www.fantasypros.com/nfl/rankings/\"\n",
    "if pos in half:\n",
    "    link += \"half-point-ppr-\"\n",
    "link += pos+\".php?week=\"+str(week)\n",
    "page_soup = Scraper(link).get_soup()\n",
    "data = page_soup.find(\"tbody\")"
   ]
  },
  {
   "cell_type": "code",
   "execution_count": 12,
   "metadata": {},
   "outputs": [],
   "source": [
    "metrics = [TableColumns().fantasy_pros['rankings']]\n",
    "players = data.findAll(\"tr\",{\"class\":re.compile(r'mpb-player-')})"
   ]
  },
  {
   "cell_type": "code",
   "execution_count": 13,
   "metadata": {},
   "outputs": [],
   "source": [
    "player = players[0]"
   ]
  },
  {
   "cell_type": "code",
   "execution_count": 14,
   "metadata": {},
   "outputs": [
    {
     "data": {
      "text/plain": [
       "[<td class=\"sticky-cell sticky-cell-one\">1</td>,\n",
       " <td class=\"hide-print wsis-cell\"><input class=\"wsis\" data-file=\"christian-mccaffrey.php\" data-id=\"16393\" data-kickoff=\"11/17 1:00pm\" data-name=\"Christian McCaffrey\" data-opp=\" vs.  ATL\" data-position=\"RB\" data-shortname=\"C. McCaffrey\" data-team=\"CAR\" type=\"checkbox\"/></td>,\n",
       " <td class=\"player-label sticky-cell sticky-cell-two\"><a href=\"/nfl/rankings/christian-mccaffrey.php?type=weekly&amp;position=RB&amp;scoring=HALF\"><span class=\"full-name\">Christian McCaffrey</span><span class=\"short-name\">C. McCaffrey</span></a> <small class=\"grey\">CAR</small> <small class=\"fp-status-16393\" style=\"vertical-align:0px;\"><a aria-hidden=\"true\" href=\"javascript:void(0)\" tabindex=\"-1\"><span class=\"hard\" style=\"font-weight:bold;\"></span></a></small>\n",
       " <a class=\"fp-player-link fp-id-16393\" fp-player-name=\"Christian McCaffrey\" href=\"#\"></a></td>,\n",
       " <td class=\"opp-cell\">  vs.  ATL</td>,\n",
       " <td class=\"view-options ranks\">1</td>,\n",
       " <td class=\"view-options ranks\">2</td>,\n",
       " <td class=\"view-options ranks\">1.0</td>,\n",
       " <td class=\"view-options ranks\">0.2</td>,\n",
       " <td class=\"view-options ranks\">23.4</td>]"
      ]
     },
     "execution_count": 14,
     "metadata": {},
     "output_type": "execute_result"
    }
   ],
   "source": [
    "stats = player.findAll(\"td\")\n",
    "stats"
   ]
  },
  {
   "cell_type": "code",
   "execution_count": 16,
   "metadata": {},
   "outputs": [
    {
     "data": {
      "text/plain": [
       "'1'"
      ]
     },
     "execution_count": 16,
     "metadata": {},
     "output_type": "execute_result"
    }
   ],
   "source": [
    "rank = stats[0].text\n",
    "rank"
   ]
  },
  {
   "cell_type": "code",
   "execution_count": 39,
   "metadata": {},
   "outputs": [],
   "source": [
    "pid = stats[1].input.get('data-id')\n",
    "name = stats[1].input.get('data-name')\n",
    "team = stats[1].input.get('data-team')"
   ]
  },
  {
   "cell_type": "code",
   "execution_count": 40,
   "metadata": {},
   "outputs": [],
   "source": [
    "opp = stats[3].text.split('.')"
   ]
  },
  {
   "cell_type": "code",
   "execution_count": 41,
   "metadata": {},
   "outputs": [],
   "source": [
    "opp = opp[1].strip()\n",
    "home = 1\n",
    "if opp[0].strip() == 'at':\n",
    "    home = 0"
   ]
  },
  {
   "cell_type": "code",
   "execution_count": 43,
   "metadata": {},
   "outputs": [
    {
     "name": "stdout",
     "output_type": "stream",
     "text": [
      "1\n",
      "2\n",
      "1.0\n",
      "0.2\n",
      "23.4\n"
     ]
    }
   ],
   "source": [
    "for stat in stats[4:]:\n",
    "    print(stat.text)"
   ]
  },
  {
   "cell_type": "code",
   "execution_count": null,
   "metadata": {},
   "outputs": [],
   "source": []
  }
 ],
 "metadata": {
  "kernelspec": {
   "display_name": "Python 3",
   "language": "python",
   "name": "python3"
  },
  "language_info": {
   "codemirror_mode": {
    "name": "ipython",
    "version": 3
   },
   "file_extension": ".py",
   "mimetype": "text/x-python",
   "name": "python",
   "nbconvert_exporter": "python",
   "pygments_lexer": "ipython3",
   "version": "3.6.4"
  }
 },
 "nbformat": 4,
 "nbformat_minor": 2
}
